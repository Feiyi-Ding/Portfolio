{
 "cells": [
  {
   "cell_type": "code",
   "execution_count": 1,
   "metadata": {},
   "outputs": [],
   "source": [
    "import pandas as pd\n",
    "import snscrape\n",
    "import snscrape.modules\n",
    "import snscrape.modules.twitter"
   ]
  },
  {
   "cell_type": "code",
   "execution_count": 1,
   "metadata": {},
   "outputs": [
    {
     "name": "stdout",
     "output_type": "stream",
     "text": [
      "3.8.3\n"
     ]
    }
   ],
   "source": [
    "from platform import python_version\n",
    "print(python_version())"
   ]
  },
  {
   "cell_type": "markdown",
   "metadata": {},
   "source": [
    "* February"
   ]
  },
  {
   "cell_type": "code",
   "execution_count": 2,
   "metadata": {},
   "outputs": [],
   "source": [
    "tweets_feb=[]\n",
    "\n",
    "for i, tweet in enumerate(snscrape.modules.twitter.TwitterSearchScraper(\"#corona lang:en since:2020-02-01 until:2020-02-29\").get_items()):\n",
    "    if tweet not in tweets_feb:\n",
    "        tweets_feb.append(tweet)"
   ]
  },
  {
   "cell_type": "code",
   "execution_count": 19,
   "metadata": {},
   "outputs": [
    {
     "data": {
      "text/plain": [
       "19171"
      ]
     },
     "execution_count": 19,
     "metadata": {},
     "output_type": "execute_result"
    }
   ],
   "source": [
    "len(tweets_feb)"
   ]
  },
  {
   "cell_type": "code",
   "execution_count": 3,
   "metadata": {},
   "outputs": [],
   "source": [
    "from bson import json_util\n",
    "import json"
   ]
  },
  {
   "cell_type": "code",
   "execution_count": 4,
   "metadata": {},
   "outputs": [],
   "source": [
    "with open(\"tweets_feb_bson.json\", \"w\") as data_file:\n",
    "    for tweet in tweets_feb:\n",
    "        #line = json.dumps(tweet)\n",
    "        line = json.dumps(tweet, default=json_util.default)\n",
    "        data_file.write(line)\n",
    "        data_file.write(\"\\n\")"
   ]
  },
  {
   "cell_type": "markdown",
   "metadata": {},
   "source": [
    "* March"
   ]
  },
  {
   "cell_type": "code",
   "execution_count": 13,
   "metadata": {},
   "outputs": [],
   "source": [
    "tweets_mar=[]\n",
    "\n",
    "for i, tweet in enumerate(snscrape.modules.twitter.TwitterSearchScraper(\"#corona lang:en since:2020-03-01 until:2020-03-31\").get_items()):\n",
    "    if tweet not in tweets_mar:\n",
    "        tweets_mar.append(tweet)"
   ]
  },
  {
   "cell_type": "code",
   "execution_count": 14,
   "metadata": {},
   "outputs": [
    {
     "data": {
      "text/plain": [
       "359213"
      ]
     },
     "execution_count": 14,
     "metadata": {},
     "output_type": "execute_result"
    }
   ],
   "source": [
    "len(tweets_mar)"
   ]
  },
  {
   "cell_type": "code",
   "execution_count": 16,
   "metadata": {},
   "outputs": [],
   "source": [
    "with open(\"tweets_mar_bson.json\", \"w\") as data_file:\n",
    "    for tweet in tweets_mar:\n",
    "        #line = json.dumps(tweet)\n",
    "        line = json.dumps(tweet, default=json_util.default)\n",
    "        data_file.write(line)\n",
    "        data_file.write(\"\\n\")"
   ]
  },
  {
   "cell_type": "markdown",
   "metadata": {},
   "source": [
    "* April"
   ]
  },
  {
   "cell_type": "code",
   "execution_count": 7,
   "metadata": {},
   "outputs": [
    {
     "name": "stderr",
     "output_type": "stream",
     "text": [
      "Error retrieving https://api.twitter.com/2/search/adaptive.json?include_profile_interstitial_type=1&include_blocking=1&include_blocked_by=1&include_followed_by=1&include_want_retweets=1&include_mute_edge=1&include_can_dm=1&include_can_media_tag=1&skip_status=1&cards_platform=Web-12&include_cards=1&include_composer_source=true&include_ext_alt_text=true&include_reply_count=1&tweet_mode=extended&include_entities=true&include_user_entities=true&include_ext_media_color=true&include_ext_media_availability=true&send_error_codes=true&simple_quoted_tweets=true&q=%23corona+lang%3Aen+since%3A2020-04-01+until%3A2020-04-30&tweet_search_mode=live&count=100&query_source=spelling_expansion_revert_click&cursor=scroll%3AthGAVUV0VFVBaAwL7J86Ld6SIWgIC6-fPA-uwiEjUAFQAlABEVjN1lFYCJehgEVVNFUhUAFQAVARXWAhUAAA%3D%3D&pc=1&spelling_corrections=1&ext=mediaStats%252CcameraMoment: non-200 status code, retrying\n"
     ]
    }
   ],
   "source": [
    "tweets_apr=[]\n",
    "\n",
    "for i, tweet in enumerate(snscrape.modules.twitter.TwitterSearchScraper(\"#corona lang:en since:2020-04-01 until:2020-04-30\").get_items()):\n",
    "    if tweet not in tweets_apr:\n",
    "        tweets_apr.append(tweet)"
   ]
  },
  {
   "cell_type": "code",
   "execution_count": 8,
   "metadata": {},
   "outputs": [
    {
     "data": {
      "text/plain": [
       "231816"
      ]
     },
     "execution_count": 8,
     "metadata": {},
     "output_type": "execute_result"
    }
   ],
   "source": [
    "len(tweets_apr)"
   ]
  },
  {
   "cell_type": "code",
   "execution_count": 15,
   "metadata": {},
   "outputs": [],
   "source": [
    "with open(\"tweets_apr_bson.json\", \"w\") as data_file:\n",
    "    for tweet in tweets_apr:\n",
    "        #line = json.dumps(tweet)\n",
    "        line = json.dumps(tweet, default=json_util.default)\n",
    "        data_file.write(line)\n",
    "        data_file.write(\"\\n\")"
   ]
  },
  {
   "cell_type": "markdown",
   "metadata": {},
   "source": [
    "* May"
   ]
  },
  {
   "cell_type": "code",
   "execution_count": 17,
   "metadata": {},
   "outputs": [],
   "source": [
    "tweets_may=[]\n",
    "\n",
    "for i, tweet in enumerate(snscrape.modules.twitter.TwitterSearchScraper(\"#corona lang:en since:2020-05-01 until:2020-05-31\").get_items()):\n",
    "    if tweet not in tweets_may:\n",
    "        tweets_may.append(tweet)"
   ]
  },
  {
   "cell_type": "code",
   "execution_count": 18,
   "metadata": {},
   "outputs": [
    {
     "data": {
      "text/plain": [
       "119852"
      ]
     },
     "execution_count": 18,
     "metadata": {},
     "output_type": "execute_result"
    }
   ],
   "source": [
    "len(tweets_may)"
   ]
  },
  {
   "cell_type": "code",
   "execution_count": 20,
   "metadata": {},
   "outputs": [],
   "source": [
    "with open(\"tweets_may_bson.json\", \"w\") as data_file:\n",
    "    for tweet in tweets_may:\n",
    "        #line = json.dumps(tweet)\n",
    "        line = json.dumps(tweet, default=json_util.default)\n",
    "        data_file.write(line)\n",
    "        data_file.write(\"\\n\")"
   ]
  },
  {
   "cell_type": "markdown",
   "metadata": {},
   "source": [
    "* June"
   ]
  },
  {
   "cell_type": "code",
   "execution_count": 21,
   "metadata": {},
   "outputs": [],
   "source": [
    "tweets_jun=[]\n",
    "\n",
    "for i, tweet in enumerate(snscrape.modules.twitter.TwitterSearchScraper(\"#corona lang:en since:2020-06-01 until:2020-06-30\").get_items()):\n",
    "    if tweet not in tweets_jun:\n",
    "        tweets_jun.append(tweet)"
   ]
  },
  {
   "cell_type": "code",
   "execution_count": 22,
   "metadata": {},
   "outputs": [
    {
     "data": {
      "text/plain": [
       "64556"
      ]
     },
     "execution_count": 22,
     "metadata": {},
     "output_type": "execute_result"
    }
   ],
   "source": [
    "len(tweets_jun)"
   ]
  },
  {
   "cell_type": "code",
   "execution_count": 23,
   "metadata": {},
   "outputs": [],
   "source": [
    "with open(\"tweets_jun_bson.json\", \"w\") as data_file:\n",
    "    for tweet in tweets_jun:\n",
    "        #line = json.dumps(tweet)\n",
    "        line = json.dumps(tweet, default=json_util.default)\n",
    "        data_file.write(line)\n",
    "        data_file.write(\"\\n\")"
   ]
  },
  {
   "cell_type": "markdown",
   "metadata": {},
   "source": [
    "* July"
   ]
  },
  {
   "cell_type": "code",
   "execution_count": 24,
   "metadata": {},
   "outputs": [],
   "source": [
    "tweets_july=[]\n",
    "\n",
    "for i, tweet in enumerate(snscrape.modules.twitter.TwitterSearchScraper(\"#corona lang:en since:2020-07-01 until:2020-07-31\").get_items()):\n",
    "    if tweet not in tweets_july:\n",
    "        tweets_july.append(tweet)"
   ]
  },
  {
   "cell_type": "code",
   "execution_count": 25,
   "metadata": {},
   "outputs": [
    {
     "data": {
      "text/plain": [
       "65419"
      ]
     },
     "execution_count": 25,
     "metadata": {},
     "output_type": "execute_result"
    }
   ],
   "source": [
    "len(tweets_july)"
   ]
  },
  {
   "cell_type": "code",
   "execution_count": 26,
   "metadata": {},
   "outputs": [],
   "source": [
    "with open(\"tweets_july_bson.json\", \"w\") as data_file:\n",
    "    for tweet in tweets_july:\n",
    "        #line = json.dumps(tweet)\n",
    "        line = json.dumps(tweet, default=json_util.default)\n",
    "        data_file.write(line)\n",
    "        data_file.write(\"\\n\")"
   ]
  },
  {
   "cell_type": "markdown",
   "metadata": {},
   "source": [
    "* August"
   ]
  },
  {
   "cell_type": "code",
   "execution_count": 27,
   "metadata": {},
   "outputs": [],
   "source": [
    "tweets_aug=[]\n",
    "\n",
    "for i, tweet in enumerate(snscrape.modules.twitter.TwitterSearchScraper(\"#corona lang:en since:2020-08-01 until:2020-08-31\").get_items()):\n",
    "    if tweet not in tweets_aug:\n",
    "        tweets_aug.append(tweet)"
   ]
  },
  {
   "cell_type": "code",
   "execution_count": 28,
   "metadata": {},
   "outputs": [
    {
     "data": {
      "text/plain": [
       "45746"
      ]
     },
     "execution_count": 28,
     "metadata": {},
     "output_type": "execute_result"
    }
   ],
   "source": [
    "len(tweets_aug)"
   ]
  },
  {
   "cell_type": "code",
   "execution_count": 29,
   "metadata": {},
   "outputs": [],
   "source": [
    "with open(\"tweets_aug_bson.json\", \"w\") as data_file:\n",
    "    for tweet in tweets_aug:\n",
    "        #line = json.dumps(tweet)\n",
    "        line = json.dumps(tweet, default=json_util.default)\n",
    "        data_file.write(line)\n",
    "        data_file.write(\"\\n\")"
   ]
  },
  {
   "cell_type": "markdown",
   "metadata": {},
   "source": [
    "* September"
   ]
  },
  {
   "cell_type": "code",
   "execution_count": 30,
   "metadata": {},
   "outputs": [],
   "source": [
    "tweets_sep=[]\n",
    "\n",
    "for i, tweet in enumerate(snscrape.modules.twitter.TwitterSearchScraper(\"#corona lang:en since:2020-09-01 until:2020-09-30\").get_items()):\n",
    "    if tweet not in tweets_sep:\n",
    "        tweets_sep.append(tweet)"
   ]
  },
  {
   "cell_type": "code",
   "execution_count": 31,
   "metadata": {},
   "outputs": [
    {
     "data": {
      "text/plain": [
       "34989"
      ]
     },
     "execution_count": 31,
     "metadata": {},
     "output_type": "execute_result"
    }
   ],
   "source": [
    "len(tweets_sep)"
   ]
  },
  {
   "cell_type": "code",
   "execution_count": 32,
   "metadata": {},
   "outputs": [],
   "source": [
    "with open(\"tweets_sep_bson.json\", \"w\") as data_file:\n",
    "    for tweet in tweets_sep:\n",
    "        #line = json.dumps(tweet)\n",
    "        line = json.dumps(tweet, default=json_util.default)\n",
    "        data_file.write(line)\n",
    "        data_file.write(\"\\n\")"
   ]
  },
  {
   "cell_type": "markdown",
   "metadata": {},
   "source": [
    "* October"
   ]
  },
  {
   "cell_type": "code",
   "execution_count": 33,
   "metadata": {},
   "outputs": [],
   "source": [
    "tweets_oct=[]\n",
    "\n",
    "for i, tweet in enumerate(snscrape.modules.twitter.TwitterSearchScraper(\"#corona lang:en since:2020-10-01 until:2020-10-31\").get_items()):\n",
    "    if tweet not in tweets_oct:\n",
    "        tweets_oct.append(tweet)"
   ]
  },
  {
   "cell_type": "code",
   "execution_count": 34,
   "metadata": {},
   "outputs": [
    {
     "data": {
      "text/plain": [
       "38155"
      ]
     },
     "execution_count": 34,
     "metadata": {},
     "output_type": "execute_result"
    }
   ],
   "source": [
    "len(tweets_oct)"
   ]
  },
  {
   "cell_type": "code",
   "execution_count": 35,
   "metadata": {},
   "outputs": [],
   "source": [
    "with open(\"tweets_oct_bson.json\", \"w\") as data_file:\n",
    "    for tweet in tweets_oct:\n",
    "        #line = json.dumps(tweet)\n",
    "        line = json.dumps(tweet, default=json_util.default)\n",
    "        data_file.write(line)\n",
    "        data_file.write(\"\\n\")"
   ]
  },
  {
   "cell_type": "code",
   "execution_count": null,
   "metadata": {},
   "outputs": [],
   "source": []
  },
  {
   "cell_type": "code",
   "execution_count": null,
   "metadata": {},
   "outputs": [],
   "source": []
  }
 ],
 "metadata": {
  "kernelspec": {
   "display_name": "Python 3",
   "language": "python",
   "name": "python3"
  },
  "language_info": {
   "codemirror_mode": {
    "name": "ipython",
    "version": 3
   },
   "file_extension": ".py",
   "mimetype": "text/x-python",
   "name": "python",
   "nbconvert_exporter": "python",
   "pygments_lexer": "ipython3",
   "version": "3.8.3"
  }
 },
 "nbformat": 4,
 "nbformat_minor": 4
}

{
 "cells": [
  {
   "cell_type": "markdown",
   "metadata": {},
   "source": [
    "## Entity Recognition"
   ]
  },
  {
   "cell_type": "code",
   "execution_count": 1,
   "metadata": {},
   "outputs": [],
   "source": [
    "import numpy as np\n",
    "import pandas as pd\n",
    "import datetime\n",
    "import requests, json, re\n",
    "import spacy\n",
    "from spacy.util import minibatch, compounding\n",
    "from pathlib import Path\n",
    "import random\n",
    "import matplotlib.pyplot as plt"
   ]
  },
  {
   "cell_type": "markdown",
   "metadata": {},
   "source": [
    "## Load Data"
   ]
  },
  {
   "cell_type": "code",
   "execution_count": 2,
   "metadata": {},
   "outputs": [
    {
     "name": "stdout",
     "output_type": "stream",
     "text": [
      "There are 5071 tweets for topic clustering.\n",
      "Here is an example of the tweet:\n",
      "{'url': 'https://twitter.com/AshleyDHeck1/status/1244776214222553088', 'text': 'Ya know how everyone kept saying \"hold my beer\", as a way to show things could most definitely get worse in situations? ... Well they named this stupid virus after a beer. 🤦🍷🍷🤷😂 #randomthoughts #coronavirus #wth #COVID19 #corona #lol #imlosingit https://t.co/gZJIKJc8md', 'date': 1585612750000, 'tweet_id': 1244776214222553088, 'user_name': 'AshleyDHeck1', 'cleaned_text': 'Ya know how everyone kept saying hold my beer as a way to show things could most definitely get worse in situations  Well they named this stupid virus after a beer  randomthoughts coronavirus wth COVID corona lol imlosingit '}\n"
     ]
    }
   ],
   "source": [
    "tweets = []\n",
    "with open('./tweets.json', 'r') as f:\n",
    "    for line in f.readlines():\n",
    "        tweets.append(json.loads(line))\n",
    "print('There are', len(tweets),'tweets for topic clustering.')\n",
    "print('Here is an example of the tweet:')\n",
    "print(tweets[0])"
   ]
  },
  {
   "cell_type": "code",
   "execution_count": 3,
   "metadata": {},
   "outputs": [
    {
     "data": {
      "text/html": [
       "<div>\n",
       "<style scoped>\n",
       "    .dataframe tbody tr th:only-of-type {\n",
       "        vertical-align: middle;\n",
       "    }\n",
       "\n",
       "    .dataframe tbody tr th {\n",
       "        vertical-align: top;\n",
       "    }\n",
       "\n",
       "    .dataframe thead th {\n",
       "        text-align: right;\n",
       "    }\n",
       "</style>\n",
       "<table border=\"1\" class=\"dataframe\">\n",
       "  <thead>\n",
       "    <tr style=\"text-align: right;\">\n",
       "      <th></th>\n",
       "      <th>url</th>\n",
       "      <th>text</th>\n",
       "      <th>date</th>\n",
       "      <th>tweet_id</th>\n",
       "      <th>user_name</th>\n",
       "      <th>cleaned_text</th>\n",
       "    </tr>\n",
       "  </thead>\n",
       "  <tbody>\n",
       "    <tr>\n",
       "      <th>0</th>\n",
       "      <td>https://twitter.com/AshleyDHeck1/status/124477...</td>\n",
       "      <td>Ya know how everyone kept saying \"hold my beer...</td>\n",
       "      <td>2020-03-30</td>\n",
       "      <td>1244776214222553088</td>\n",
       "      <td>AshleyDHeck1</td>\n",
       "      <td>Ya know how everyone kept saying hold my beer ...</td>\n",
       "    </tr>\n",
       "    <tr>\n",
       "      <th>1</th>\n",
       "      <td>https://twitter.com/CffeeAndSarcasm/status/124...</td>\n",
       "      <td>AA is going to need a bouncer when this is ove...</td>\n",
       "      <td>2020-03-30</td>\n",
       "      <td>1244758836516397056</td>\n",
       "      <td>CffeeAndSarcasm</td>\n",
       "      <td>AA is going to need a bouncer when this is ove...</td>\n",
       "    </tr>\n",
       "    <tr>\n",
       "      <th>2</th>\n",
       "      <td>https://twitter.com/KarinBrauns/status/1244757...</td>\n",
       "      <td>Don’t drown in your own thoughts.. Stay close ...</td>\n",
       "      <td>2020-03-30</td>\n",
       "      <td>1244757544431751171</td>\n",
       "      <td>KarinBrauns</td>\n",
       "      <td>Don’t drown in your own thoughts Stay close at...</td>\n",
       "    </tr>\n",
       "    <tr>\n",
       "      <th>3</th>\n",
       "      <td>https://twitter.com/AspenBrewingCo/status/1244...</td>\n",
       "      <td>Mix it up this week with a delicious pizza and...</td>\n",
       "      <td>2020-03-30</td>\n",
       "      <td>1244753120669958144</td>\n",
       "      <td>AspenBrewingCo</td>\n",
       "      <td>Mix it up this week with a delicious pizza and...</td>\n",
       "    </tr>\n",
       "    <tr>\n",
       "      <th>4</th>\n",
       "      <td>https://twitter.com/Didanmeg/status/1244748406...</td>\n",
       "      <td>The only beer we will be drinking until this w...</td>\n",
       "      <td>2020-03-30</td>\n",
       "      <td>1244748406435852289</td>\n",
       "      <td>Didanmeg</td>\n",
       "      <td>The only beer we will be drinking until this w...</td>\n",
       "    </tr>\n",
       "  </tbody>\n",
       "</table>\n",
       "</div>"
      ],
      "text/plain": [
       "                                                 url  \\\n",
       "0  https://twitter.com/AshleyDHeck1/status/124477...   \n",
       "1  https://twitter.com/CffeeAndSarcasm/status/124...   \n",
       "2  https://twitter.com/KarinBrauns/status/1244757...   \n",
       "3  https://twitter.com/AspenBrewingCo/status/1244...   \n",
       "4  https://twitter.com/Didanmeg/status/1244748406...   \n",
       "\n",
       "                                                text        date  \\\n",
       "0  Ya know how everyone kept saying \"hold my beer...  2020-03-30   \n",
       "1  AA is going to need a bouncer when this is ove...  2020-03-30   \n",
       "2  Don’t drown in your own thoughts.. Stay close ...  2020-03-30   \n",
       "3  Mix it up this week with a delicious pizza and...  2020-03-30   \n",
       "4  The only beer we will be drinking until this w...  2020-03-30   \n",
       "\n",
       "              tweet_id        user_name  \\\n",
       "0  1244776214222553088     AshleyDHeck1   \n",
       "1  1244758836516397056  CffeeAndSarcasm   \n",
       "2  1244757544431751171      KarinBrauns   \n",
       "3  1244753120669958144   AspenBrewingCo   \n",
       "4  1244748406435852289         Didanmeg   \n",
       "\n",
       "                                        cleaned_text  \n",
       "0  Ya know how everyone kept saying hold my beer ...  \n",
       "1  AA is going to need a bouncer when this is ove...  \n",
       "2  Don’t drown in your own thoughts Stay close at...  \n",
       "3  Mix it up this week with a delicious pizza and...  \n",
       "4  The only beer we will be drinking until this w...  "
      ]
     },
     "execution_count": 3,
     "metadata": {},
     "output_type": "execute_result"
    }
   ],
   "source": [
    "df = pd.DataFrame(tweets[0:])\n",
    "df = df.iloc[: , 0:6]\n",
    "df.columns =[\"url\",\"text\",\"date\",\"tweet_id\",\"user_name\",\"cleaned_text\"]\n",
    "df['date']=df['date'].apply(lambda d: datetime.datetime.fromtimestamp(int(d)/1000).strftime('%Y-%m-%d'))\n",
    "df.head()"
   ]
  },
  {
   "cell_type": "markdown",
   "metadata": {},
   "source": [
    "## IBM Watson NLU"
   ]
  },
  {
   "cell_type": "code",
   "execution_count": 4,
   "metadata": {},
   "outputs": [],
   "source": [
    "from ibm_watson import NaturalLanguageUnderstandingV1\n",
    "from ibm_cloud_sdk_core.authenticators import IAMAuthenticator\n",
    "from ibm_watson.natural_language_understanding_v1 import Features, EntitiesOptions"
   ]
  },
  {
   "cell_type": "code",
   "execution_count": 5,
   "metadata": {},
   "outputs": [
    {
     "name": "stdout",
     "output_type": "stream",
     "text": [
      "{\n",
      "  \"usage\": {\n",
      "    \"text_units\": 1,\n",
      "    \"text_characters\": 262,\n",
      "    \"features\": 1\n",
      "  },\n",
      "  \"language\": \"en\",\n",
      "  \"entities\": []\n",
      "}\n"
     ]
    }
   ],
   "source": [
    "# eample useage\n",
    "text = tweets[500]['cleaned_text']\n",
    "\n",
    "authenticator = IAMAuthenticator('oTGzEC4oCKWRm0Z_V3cErezPKb_V_506O-Z3OsQPsEdo')\n",
    "natural_language_understanding = NaturalLanguageUnderstandingV1(\n",
    "    version='2020-08-01',\n",
    "    authenticator=authenticator\n",
    ")\n",
    "\n",
    "natural_language_understanding.set_service_url('https://api.us-south.natural-language-understanding.watson.cloud.ibm.com/instances/38c1029f-c8a5-4f16-bba8-0aa47c47b4bf')\n",
    "\n",
    "response = natural_language_understanding.analyze(text= text, features=Features(\n",
    "                entities=EntitiesOptions(emotion=True, sentiment=False,limit=10))).get_result()\n",
    "\n",
    "print(json.dumps(response, indent=2))"
   ]
  },
  {
   "cell_type": "markdown",
   "metadata": {},
   "source": [
    "## Spacy"
   ]
  },
  {
   "cell_type": "code",
   "execution_count": 6,
   "metadata": {},
   "outputs": [],
   "source": [
    "nlp = spacy.load(\"en_core_web_sm\")"
   ]
  },
  {
   "cell_type": "code",
   "execution_count": 7,
   "metadata": {},
   "outputs": [
    {
     "data": {
      "text/plain": [
       "9718"
      ]
     },
     "execution_count": 7,
     "metadata": {},
     "output_type": "execute_result"
    }
   ],
   "source": [
    "ents=[]\n",
    "for i in range(0, len(tweets)):\n",
    "    for ent in nlp(tweets[i]['cleaned_text']).ents:\n",
    "        ents.append((ent.text, ent.start_char, ent.end_char, ent.label_))  \n",
    "        \n",
    "len(ents)"
   ]
  },
  {
   "cell_type": "code",
   "execution_count": 8,
   "metadata": {},
   "outputs": [
    {
     "data": {
      "text/plain": [
       "[('COVID', 196, 201, 'ORG'),\n",
       " ('COVID', 78, 83, 'ORG'),\n",
       " ('Quarantine', 85, 95, 'PRODUCT'),\n",
       " ('QuarantineLife', 97, 111, 'ORG'),\n",
       " ('this week', 10, 19, 'DATE')]"
      ]
     },
     "execution_count": 8,
     "metadata": {},
     "output_type": "execute_result"
    }
   ],
   "source": [
    "ents[0:5]"
   ]
  },
  {
   "cell_type": "code",
   "execution_count": 9,
   "metadata": {},
   "outputs": [
    {
     "data": {
      "text/html": [
       "<div>\n",
       "<style scoped>\n",
       "    .dataframe tbody tr th:only-of-type {\n",
       "        vertical-align: middle;\n",
       "    }\n",
       "\n",
       "    .dataframe tbody tr th {\n",
       "        vertical-align: top;\n",
       "    }\n",
       "\n",
       "    .dataframe thead th {\n",
       "        text-align: right;\n",
       "    }\n",
       "</style>\n",
       "<table border=\"1\" class=\"dataframe\">\n",
       "  <thead>\n",
       "    <tr style=\"text-align: right;\">\n",
       "      <th></th>\n",
       "      <th>text</th>\n",
       "      <th>start_char</th>\n",
       "      <th>end_char</th>\n",
       "      <th>Entity Label</th>\n",
       "    </tr>\n",
       "  </thead>\n",
       "  <tbody>\n",
       "    <tr>\n",
       "      <th>0</th>\n",
       "      <td>COVID</td>\n",
       "      <td>196</td>\n",
       "      <td>201</td>\n",
       "      <td>ORG</td>\n",
       "    </tr>\n",
       "    <tr>\n",
       "      <th>1</th>\n",
       "      <td>COVID</td>\n",
       "      <td>78</td>\n",
       "      <td>83</td>\n",
       "      <td>ORG</td>\n",
       "    </tr>\n",
       "    <tr>\n",
       "      <th>2</th>\n",
       "      <td>Quarantine</td>\n",
       "      <td>85</td>\n",
       "      <td>95</td>\n",
       "      <td>PRODUCT</td>\n",
       "    </tr>\n",
       "    <tr>\n",
       "      <th>3</th>\n",
       "      <td>QuarantineLife</td>\n",
       "      <td>97</td>\n",
       "      <td>111</td>\n",
       "      <td>ORG</td>\n",
       "    </tr>\n",
       "    <tr>\n",
       "      <th>4</th>\n",
       "      <td>this week</td>\n",
       "      <td>10</td>\n",
       "      <td>19</td>\n",
       "      <td>DATE</td>\n",
       "    </tr>\n",
       "  </tbody>\n",
       "</table>\n",
       "</div>"
      ],
      "text/plain": [
       "             text  start_char  end_char Entity Label\n",
       "0           COVID         196       201          ORG\n",
       "1           COVID          78        83          ORG\n",
       "2      Quarantine          85        95      PRODUCT\n",
       "3  QuarantineLife          97       111          ORG\n",
       "4       this week          10        19         DATE"
      ]
     },
     "execution_count": 9,
     "metadata": {},
     "output_type": "execute_result"
    }
   ],
   "source": [
    "df = pd.DataFrame(ents)\n",
    "df.columns = ['text', 'start_char', 'end_char', 'Entity Label']\n",
    "df.head() # can be improved"
   ]
  },
  {
   "cell_type": "code",
   "execution_count": 10,
   "metadata": {},
   "outputs": [],
   "source": [
    "df=df.drop(columns=['start_char', 'end_char'])\n",
    "ent_count=df.groupby(['Entity Label']).count()\n",
    "ent_count.columns = ['No of Ents']\n",
    "ent_count=ent_count.sort_values(by=['No of Ents'])"
   ]
  },
  {
   "cell_type": "code",
   "execution_count": 11,
   "metadata": {},
   "outputs": [
    {
     "data": {
      "text/plain": [
       "<Figure size 7200x5760 with 0 Axes>"
      ]
     },
     "metadata": {},
     "output_type": "display_data"
    },
    {
     "data": {
      "image/png": "[encoded data removed]",
      "text/plain": [
       "<Figure size 432x288 with 1 Axes>"
      ]
     },
     "metadata": {
      "needs_background": "light"
     },
     "output_type": "display_data"
    }
   ],
   "source": [
    "plt.figure(figsize=(100,80))\n",
    "ent_count.plot.barh(stacked=True)\n",
    "plt.savefig('ent_count.png')"
   ]
  },
  {
   "cell_type": "code",
   "execution_count": null,
   "metadata": {},
   "outputs": [],
   "source": []
  },
  {
   "cell_type": "code",
   "execution_count": null,
   "metadata": {},
   "outputs": [],
   "source": []
  },
  {
   "cell_type": "code",
   "execution_count": null,
   "metadata": {},
   "outputs": [],
   "source": []
  },
  {
   "cell_type": "code",
   "execution_count": null,
   "metadata": {},
   "outputs": [],
   "source": []
  },
  {
   "cell_type": "code",
   "execution_count": null,
   "metadata": {},
   "outputs": [],
   "source": []
  },
  {
   "cell_type": "code",
   "execution_count": null,
   "metadata": {},
   "outputs": [],
   "source": []
  },
  {
   "cell_type": "code",
   "execution_count": null,
   "metadata": {},
   "outputs": [],
   "source": []
  }
 ],
 "metadata": {
  "kernelspec": {
   "display_name": "Python 3",
   "language": "python",
   "name": "python3"
  },
  "language_info": {
   "codemirror_mode": {
    "name": "ipython",
    "version": 3
   },
   "file_extension": ".py",
   "mimetype": "text/x-python",
   "name": "python",
   "nbconvert_exporter": "python",
   "pygments_lexer": "ipython3",
   "version": "3.8.3"
  }
 },
 "nbformat": 4,
 "nbformat_minor": 4
}

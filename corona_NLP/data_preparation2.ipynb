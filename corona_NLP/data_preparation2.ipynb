{
 "cells": [
  {
   "cell_type": "markdown",
   "metadata": {},
   "source": [
    "## Data preparation"
   ]
  },
  {
   "cell_type": "code",
   "execution_count": 1,
   "metadata": {},
   "outputs": [],
   "source": [
    "import json # read json files\n",
    "from genson import SchemaBuilder # print json schema\n",
    "import re\n",
    "import string\n",
    "from bson import json_util"
   ]
  },
  {
   "cell_type": "markdown",
   "metadata": {},
   "source": [
    "### Load data"
   ]
  },
  {
   "cell_type": "code",
   "execution_count": 2,
   "metadata": {},
   "outputs": [],
   "source": [
    "# March\n",
    "mar = []\n",
    "with open('./tweets_mar_bson.json', 'r') as f:\n",
    "    for line in f.readlines():\n",
    "        mar.append(json.loads(line))"
   ]
  },
  {
   "cell_type": "code",
   "execution_count": 3,
   "metadata": {},
   "outputs": [],
   "source": [
    "# April\n",
    "apr = []\n",
    "with open('./tweets_apr_bson.json', 'r') as f:\n",
    "    for line in f.readlines():\n",
    "        apr.append(json.loads(line))"
   ]
  },
  {
   "cell_type": "code",
   "execution_count": 4,
   "metadata": {},
   "outputs": [],
   "source": [
    "# May\n",
    "may = []\n",
    "with open('./tweets_may_bson.json', 'r') as f:\n",
    "    for line in f.readlines():\n",
    "        may.append(json.loads(line))"
   ]
  },
  {
   "cell_type": "code",
   "execution_count": 5,
   "metadata": {},
   "outputs": [],
   "source": [
    "# June\n",
    "jun = []\n",
    "with open('./tweets_jun_bson.json', 'r') as f:\n",
    "    for line in f.readlines():\n",
    "        jun.append(json.loads(line))"
   ]
  },
  {
   "cell_type": "code",
   "execution_count": 6,
   "metadata": {},
   "outputs": [],
   "source": [
    "# July\n",
    "jul = []\n",
    "with open('./tweets_july_bson.json', 'r') as f:\n",
    "    for line in f.readlines():\n",
    "        jul.append(json.loads(line))"
   ]
  },
  {
   "cell_type": "code",
   "execution_count": 7,
   "metadata": {},
   "outputs": [],
   "source": [
    "# Aug\n",
    "aug = []\n",
    "with open('./tweets_aug_bson.json', 'r') as f:\n",
    "    for line in f.readlines():\n",
    "        aug.append(json.loads(line))"
   ]
  },
  {
   "cell_type": "markdown",
   "metadata": {},
   "source": [
    "### Merge all the tweets"
   ]
  },
  {
   "cell_type": "code",
   "execution_count": 8,
   "metadata": {},
   "outputs": [
    {
     "name": "stdout",
     "output_type": "stream",
     "text": [
      "In the original data set, we have 886602 tweets.\n"
     ]
    }
   ],
   "source": [
    "original_tweets = mar+apr+may+jun+jul+aug\n",
    "print('In the original data set, we have', len(original_tweets), 'tweets.')"
   ]
  },
  {
   "cell_type": "code",
   "execution_count": 9,
   "metadata": {},
   "outputs": [
    {
     "data": {
      "text/plain": [
       "['https://twitter.com/DannyWijnhoud/status/1244776295109664769',\n",
       " {'$date': 1585612770000},\n",
       " '@nytimes @jelle_simons Theft in times of #Corona. I would like Vincent van Gogh could have made a painting of it.',\n",
       " 1244776295109664769,\n",
       " 'DannyWijnhoud',\n",
       " [],\n",
       " '',\n",
       " [],\n",
       " '']"
      ]
     },
     "execution_count": 9,
     "metadata": {},
     "output_type": "execute_result"
    }
   ],
   "source": [
    "# Example tweet\n",
    "original_tweets[0]"
   ]
  },
  {
   "cell_type": "markdown",
   "metadata": {},
   "source": [
    "### Exclude irrelevant tweets"
   ]
  },
  {
   "cell_type": "code",
   "execution_count": 10,
   "metadata": {},
   "outputs": [
    {
     "name": "stdout",
     "output_type": "stream",
     "text": [
      "Now we have 5071 tweets.\n"
     ]
    }
   ],
   "source": [
    "tweets = []\n",
    "for i in range(0, len(original_tweets)):\n",
    "    if \"beer\" in original_tweets[i][2] or \"alcohol\" in original_tweets[i][2]:\n",
    "        tweets.append(original_tweets[i])\n",
    "\n",
    "print('Now we have', len(tweets), 'tweets.')"
   ]
  },
  {
   "cell_type": "markdown",
   "metadata": {},
   "source": [
    "### Data cleaning"
   ]
  },
  {
   "cell_type": "markdown",
   "metadata": {},
   "source": [
    "- Format transformation"
   ]
  },
  {
   "cell_type": "code",
   "execution_count": 11,
   "metadata": {},
   "outputs": [
    {
     "data": {
      "text/plain": [
       "{'url': 'https://twitter.com/AshleyDHeck1/status/1244776214222553088',\n",
       " 'text': 'Ya know how everyone kept saying \"hold my beer\", as a way to show things could most definitely get worse in situations? ... Well they named this stupid virus after a beer. 🤦🍷🍷🤷😂 #randomthoughts #coronavirus #wth #COVID19 #corona #lol #imlosingit https://t.co/gZJIKJc8md',\n",
       " 'date': 1585612750000,\n",
       " 'tweet_id': 1244776214222553088,\n",
       " 'user_name': 'AshleyDHeck1',\n",
       " 'cleaned_text': 'Ya know how everyone kept saying \"hold my beer\", as a way to show things could most definitely get worse in situations? ... Well they named this stupid virus after a beer. 🤦🍷🍷🤷😂 #randomthoughts #coronavirus #wth #COVID19 #corona #lol #imlosingit https://t.co/gZJIKJc8md'}"
      ]
     },
     "execution_count": 11,
     "metadata": {},
     "output_type": "execute_result"
    }
   ],
   "source": [
    "column_names=(\"url\",\"text\",\"date\",\"tweet_id\",\"user_name\",\"cleaned_text\")\n",
    "json_response=[]\n",
    "for i in range(0,len(tweets)):\n",
    "    json_element= {}\n",
    "    json_element[column_names[0]]=tweets[i][0]\n",
    "    json_element[column_names[1]]=tweets[i][2]\n",
    "    json_element[column_names[2]]=tweets[i][1]['$date']\n",
    "    json_element[column_names[3]]=tweets[i][3]\n",
    "    json_element[column_names[4]]=tweets[i][4]\n",
    "    json_element[column_names[5]]=tweets[i][2]\n",
    "    json_response.append(json_element)\n",
    "    \n",
    "# Example output\n",
    "json_response[0]"
   ]
  },
  {
   "cell_type": "markdown",
   "metadata": {},
   "source": [
    "- The schema of the json object"
   ]
  },
  {
   "cell_type": "code",
   "execution_count": 12,
   "metadata": {},
   "outputs": [
    {
     "data": {
      "text/plain": [
       "{'$schema': 'http://json-schema.org/schema#',\n",
       " 'anyOf': [{'type': 'object'},\n",
       "  {'type': 'array',\n",
       "   'items': {'type': 'object',\n",
       "    'properties': {'url': {'type': 'string'},\n",
       "     'text': {'type': 'string'},\n",
       "     'date': {'type': 'integer'},\n",
       "     'tweet_id': {'type': 'integer'},\n",
       "     'user_name': {'type': 'string'},\n",
       "     'cleaned_text': {'type': 'string'}},\n",
       "    'required': ['cleaned_text',\n",
       "     'date',\n",
       "     'text',\n",
       "     'tweet_id',\n",
       "     'url',\n",
       "     'user_name']}}]}"
      ]
     },
     "execution_count": 12,
     "metadata": {},
     "output_type": "execute_result"
    }
   ],
   "source": [
    "bld = SchemaBuilder()\n",
    "bld.add_schema({\"type\": \"object\", \"properties\": {}})\n",
    "bld.add_object(json_response)\n",
    "bld.to_schema()"
   ]
  },
  {
   "cell_type": "markdown",
   "metadata": {},
   "source": [
    "- Deduplication"
   ]
  },
  {
   "cell_type": "code",
   "execution_count": 13,
   "metadata": {},
   "outputs": [
    {
     "name": "stdout",
     "output_type": "stream",
     "text": [
      "5071\n"
     ]
    }
   ],
   "source": [
    "tweet_id=set()\n",
    "tweets=[]\n",
    "for t in json_response:\n",
    "    if t['tweet_id'] not in tweet_id:\n",
    "        tweet_id.add(t['tweet_id'])\n",
    "        tweets.append(t)\n",
    "print(len(tweets))"
   ]
  },
  {
   "cell_type": "markdown",
   "metadata": {},
   "source": [
    "- Remove url"
   ]
  },
  {
   "cell_type": "code",
   "execution_count": 14,
   "metadata": {},
   "outputs": [],
   "source": [
    "def remove_url(text):\n",
    "    text = re.sub(r'http\\S+', '', text)\n",
    "    return text"
   ]
  },
  {
   "cell_type": "code",
   "execution_count": 15,
   "metadata": {},
   "outputs": [
    {
     "data": {
      "text/plain": [
       "'Ya know how everyone kept saying \"hold my beer\", as a way to show things could most definitely get worse in situations? ... Well they named this stupid virus after a beer. 🤦🍷🍷🤷😂 #randomthoughts #coronavirus #wth #COVID19 #corona #lol #imlosingit '"
      ]
     },
     "execution_count": 15,
     "metadata": {},
     "output_type": "execute_result"
    }
   ],
   "source": [
    "for i in range(0, len(tweets)):\n",
    "    tweets[i]['cleaned_text'] = remove_url(tweets[i]['cleaned_text'])\n",
    "\n",
    "# Example output\n",
    "tweets[0]['cleaned_text']"
   ]
  },
  {
   "cell_type": "markdown",
   "metadata": {},
   "source": [
    "- Remove punctuations"
   ]
  },
  {
   "cell_type": "code",
   "execution_count": 16,
   "metadata": {},
   "outputs": [],
   "source": [
    "def remove_punct(text):\n",
    "    text  = \"\".join([char for char in text if char not in string.punctuation])\n",
    "    text = re.sub('[0-9]+', '', text)\n",
    "    return text"
   ]
  },
  {
   "cell_type": "code",
   "execution_count": 17,
   "metadata": {},
   "outputs": [
    {
     "data": {
      "text/plain": [
       "'Ya know how everyone kept saying hold my beer as a way to show things could most definitely get worse in situations  Well they named this stupid virus after a beer 🤦🍷🍷🤷😂 randomthoughts coronavirus wth COVID corona lol imlosingit '"
      ]
     },
     "execution_count": 17,
     "metadata": {},
     "output_type": "execute_result"
    }
   ],
   "source": [
    "for i in range(0, len(tweets)):\n",
    "    tweets[i]['cleaned_text'] = remove_punct(tweets[i]['cleaned_text'])\n",
    "    \n",
    "# Example output\n",
    "tweets[0]['cleaned_text']"
   ]
  },
  {
   "cell_type": "markdown",
   "metadata": {},
   "source": [
    "- Remove_emojis"
   ]
  },
  {
   "cell_type": "code",
   "execution_count": 18,
   "metadata": {},
   "outputs": [],
   "source": [
    "def remove_emojis(data):\n",
    "    emoj = re.compile(\"[\"\n",
    "        u\"\\U0001F600-\\U0001F64F\"  # emoticons\n",
    "        u\"\\U0001F300-\\U0001F5FF\"  # symbols & pictographs\n",
    "        u\"\\U0001F680-\\U0001F6FF\"  # transport & map symbols\n",
    "        u\"\\U0001F1E0-\\U0001F1FF\"  # flags (iOS)\n",
    "        u\"\\U00002500-\\U00002BEF\"  # chinese char\n",
    "        u\"\\U00002702-\\U000027B0\"\n",
    "        u\"\\U00002702-\\U000027B0\"\n",
    "        u\"\\U000024C2-\\U0001F251\"\n",
    "        u\"\\U0001f926-\\U0001f937\"\n",
    "        u\"\\U00010000-\\U0010ffff\"\n",
    "        u\"\\u2640-\\u2642\" \n",
    "        u\"\\u2600-\\u2B55\"\n",
    "        u\"\\u200d\"\n",
    "        u\"\\u23cf\"\n",
    "        u\"\\u23e9\"\n",
    "        u\"\\u231a\"\n",
    "        u\"\\ufe0f\"  # dingbats\n",
    "        u\"\\u3030\"\n",
    "                      \"]+\", re.UNICODE)\n",
    "    return re.sub(emoj, '', data)"
   ]
  },
  {
   "cell_type": "code",
   "execution_count": 19,
   "metadata": {},
   "outputs": [
    {
     "data": {
      "text/plain": [
       "'Ya know how everyone kept saying hold my beer as a way to show things could most definitely get worse in situations  Well they named this stupid virus after a beer  randomthoughts coronavirus wth COVID corona lol imlosingit '"
      ]
     },
     "execution_count": 19,
     "metadata": {},
     "output_type": "execute_result"
    }
   ],
   "source": [
    "for i in range(0, len(tweets)):\n",
    "    tweets[i]['cleaned_text'] = remove_emojis(tweets[i]['cleaned_text'])\n",
    "    \n",
    "# Example output\n",
    "tweets[0]['cleaned_text']"
   ]
  },
  {
   "cell_type": "markdown",
   "metadata": {},
   "source": [
    "### Save tweets to the file"
   ]
  },
  {
   "cell_type": "code",
   "execution_count": 20,
   "metadata": {},
   "outputs": [],
   "source": [
    "with open(\"tweets.json\", \"w\") as data_file:\n",
    "    for tweet in tweets:\n",
    "        line = json.dumps(tweet, default=json_util.default)\n",
    "        data_file.write(line)\n",
    "        data_file.write(\"\\n\")"
   ]
  },
  {
   "cell_type": "code",
   "execution_count": null,
   "metadata": {},
   "outputs": [],
   "source": []
  },
  {
   "cell_type": "code",
   "execution_count": null,
   "metadata": {},
   "outputs": [],
   "source": []
  },
  {
   "cell_type": "code",
   "execution_count": null,
   "metadata": {},
   "outputs": [],
   "source": []
  }
 ],
 "metadata": {
  "kernelspec": {
   "display_name": "Python 3",
   "language": "python",
   "name": "python3"
  },
  "language_info": {
   "codemirror_mode": {
    "name": "ipython",
    "version": 3
   },
   "file_extension": ".py",
   "mimetype": "text/x-python",
   "name": "python",
   "nbconvert_exporter": "python",
   "pygments_lexer": "ipython3",
   "version": "3.8.3"
  }
 },
 "nbformat": 4,
 "nbformat_minor": 4
}
